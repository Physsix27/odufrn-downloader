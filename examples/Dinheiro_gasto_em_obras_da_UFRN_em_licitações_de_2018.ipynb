{
 "cells": [
  {
   "cell_type": "markdown",
   "metadata": {
    "colab_type": "text",
    "id": "CmJF5BNbt1qU"
   },
   "source": [
    "# Dinheiro gasto em obras da UFRN em licitações de 2018"
   ]
  },
  {
   "cell_type": "markdown",
   "metadata": {
    "colab_type": "text",
    "id": "hGUjt1_6m1dY"
   },
   "source": [
    "O presente notebook trata-se de um exemplo de como utilizar os dados baixados do pacote `odufrn-downloader`. Nesse exemplo em questão analisamos o dataset sobre as licitações de obras aprovadas em 2018 pela Universidade Federal do Rio Grande do Norte (UFNR). \n",
    "\n",
    "Clique [aqui](http://dados.ufrn.br/dataset/obras/resource/067e7cad-934c-4134-a5d5-807915c074b4) para ver o dataset utilizado nesse notbook.\n",
    "\n",
    "\n"
   ]
  },
  {
   "cell_type": "markdown",
   "metadata": {
    "colab_type": "text",
    "id": "xWw1GbAFPrCU"
   },
   "source": [
    "# Instalando o pacote odufrn_downloader\n",
    "\n",
    "Através do gerenciador de pacote `pip` podemos efetuar o download do `odufrn_downloader`. \n",
    "\n"
   ]
  },
  {
   "cell_type": "code",
   "execution_count": 1,
   "metadata": {
    "colab": {
     "base_uri": "https://localhost:8080/",
     "height": 193
    },
    "colab_type": "code",
    "id": "V3Mk6BODNigJ",
    "outputId": "0adf28cb-1c48-4ecd-ef03-2399d949859b"
   },
   "outputs": [
    {
     "name": "stdout",
     "output_type": "stream",
     "text": [
      "Requirement already satisfied: odufrn_downloader in /Users/johnazedo/Documents/Envs/dataScience/lib/python3.7/site-packages (1.2.0)\n",
      "Requirement already satisfied: requests in /Users/johnazedo/Documents/Envs/dataScience/lib/python3.7/site-packages (from odufrn_downloader) (2.22.0)\n",
      "Requirement already satisfied: idna<2.9,>=2.5 in /Users/johnazedo/Documents/Envs/dataScience/lib/python3.7/site-packages (from requests->odufrn_downloader) (2.8)\n",
      "Requirement already satisfied: urllib3!=1.25.0,!=1.25.1,<1.26,>=1.21.1 in /Users/johnazedo/Documents/Envs/dataScience/lib/python3.7/site-packages (from requests->odufrn_downloader) (1.25.3)\n",
      "Requirement already satisfied: chardet<3.1.0,>=3.0.2 in /Users/johnazedo/Documents/Envs/dataScience/lib/python3.7/site-packages (from requests->odufrn_downloader) (3.0.4)\n",
      "Requirement already satisfied: certifi>=2017.4.17 in /Users/johnazedo/Documents/Envs/dataScience/lib/python3.7/site-packages (from requests->odufrn_downloader) (2019.9.11)\n"
     ]
    }
   ],
   "source": [
    "!pip install odufrn_downloader"
   ]
  },
  {
   "cell_type": "markdown",
   "metadata": {
    "colab_type": "text",
    "id": "2BO97BW4fy_O"
   },
   "source": [
    "# Dependencias\n",
    "\n",
    "- [Pandas](https://pandas.pydata.org/): é um pacote que fornece estruturas de dados de alto desempenho e fáceis de usar, além de conter ferramentas de análise de dados.\n",
    "\n",
    "- [Open Data UFRN Downloader](https://github.com/odufrn/odufrn-downloader): é um pacote utilizado para facilitar a aquisição dos dados abertos da UFRN."
   ]
  },
  {
   "cell_type": "code",
   "execution_count": 0,
   "metadata": {
    "colab": {},
    "colab_type": "code",
    "id": "qaUSInTxbg4f"
   },
   "outputs": [],
   "source": [
    "import pandas as pd\n",
    "from odufrn_downloader import ODUFRNDownloader"
   ]
  },
  {
   "cell_type": "markdown",
   "metadata": {
    "colab_type": "text",
    "id": "a_yGjfeggXDB"
   },
   "source": [
    "# Dataset\n",
    "\n",
    "Utilizamos a função download_package para executar o download do dataset de obras da UFRN.\n",
    "\n",
    "Observe que também baixamos o `Dicionário de Dados - Obras`, documento responsável por conter os metadados e descrição sobre os dados baixados."
   ]
  },
  {
   "cell_type": "code",
   "execution_count": 0,
   "metadata": {
    "colab": {
     "base_uri": "https://localhost:8080/",
     "height": 52
    },
    "colab_type": "code",
    "id": "Qr6COW_MgUiq",
    "outputId": "bb979703-2bc9-4202-b14c-ec14fa0443b1"
   },
   "outputs": [
    {
     "name": "stdout",
     "output_type": "stream",
     "text": [
      "Baixando Obras...\n",
      "Baixando Dicionário de Dados - Obras...\n"
     ]
    }
   ],
   "source": [
    "ufrn_data = ODUFRNDownloader()\n",
    "ufrn_data.download_package('obras')"
   ]
  },
  {
   "cell_type": "markdown",
   "metadata": {
    "colab_type": "text",
    "id": "TmZOFX22DbYk"
   },
   "source": [
    "# Carregando os dados em um DataFrame com pandas\n",
    "\n",
    "O pandas fornece ótimos instrumentos para manipular os dados desejados. Um desses instrumentos é o `read_csv`, permitindo a transformação do conjunto de dados csv em um `DataFrame`.\n",
    "\n",
    "Argumentos usados na função:\n",
    "* `error_bad_lines`: Evita que dados ilegíveis gerem erros na leitura do arquivo .csv;\n",
    "\n",
    "* `sep`: Especifica qual o carctere responsável por separar os dados.\n"
   ]
  },
  {
   "cell_type": "code",
   "execution_count": 0,
   "metadata": {
    "colab": {},
    "colab_type": "code",
    "id": "uUjzFbFwA8YF"
   },
   "outputs": [],
   "source": [
    "obras = pd.read_csv('obras/Obras.csv', error_bad_lines=False, sep=';')"
   ]
  },
  {
   "cell_type": "markdown",
   "metadata": {
    "colab_type": "text",
    "id": "3Fc8RARVRqpp"
   },
   "source": [
    "# Pegando todos os valores das obras da UFRN no ano de 2018\n",
    "\n",
    "Já que temos o DataFrame carregado na variável obras, temos agora que minerar os dados para separarmos apenas os desejados. Como estamos focando no ano de 2018, iremos na coluna `licitacao` verificar quais obras tem a string 2018 e retornar o valor para `obras_2018`. "
   ]
  },
  {
   "cell_type": "code",
   "execution_count": 0,
   "metadata": {
    "colab": {},
    "colab_type": "code",
    "id": "B65DqfwIRmkZ"
   },
   "outputs": [],
   "source": [
    "obras_2018 = obras[obras['licitacao'].str.contains('2018')]['valor']"
   ]
  },
  {
   "cell_type": "markdown",
   "metadata": {
    "colab_type": "text",
    "id": "reaYF1cmR4Bk"
   },
   "source": [
    "# Tratando os dados selecionados\n",
    "\n",
    "Infelizmente os valores das obras possuem \"R$\" antes da quantidade. Para podermos soma-los precisamos remover o sifrão e os espaços em branco, e após isso, transforma-los em tipo float."
   ]
  },
  {
   "cell_type": "code",
   "execution_count": 0,
   "metadata": {
    "colab": {},
    "colab_type": "code",
    "id": "QSS81828R9NY"
   },
   "outputs": [],
   "source": [
    "# Removendo R$ e espaços dos dados selecionados\n",
    "obras_2018 = obras_2018.str.replace('R', '').str.replace('$', '').str.strip()\n",
    "# Substituindo vígula por ponto para converter para float\n",
    "obras_2018 = obras_2018.str.replace('.', '').str.replace(',', '.')\n",
    "# Transformando os dados de string para float\n",
    "obras_2018 = obras_2018.astype(float)"
   ]
  },
  {
   "cell_type": "markdown",
   "metadata": {
    "colab_type": "text",
    "id": "LL385W8XSqhv"
   },
   "source": [
    "# Efetuando a soma e mostrando o resultado"
   ]
  },
  {
   "cell_type": "code",
   "execution_count": 0,
   "metadata": {
    "colab": {
     "base_uri": "https://localhost:8080/",
     "height": 34
    },
    "colab_type": "code",
    "id": "mXtMQtsHSkkg",
    "outputId": "0b775211-d8aa-42a0-df0c-8ec78a107b68"
   },
   "outputs": [
    {
     "data": {
      "text/plain": [
       "'O gasto da UFRN para obras em 2018 foi: R$ 5710198.14'"
      ]
     },
     "execution_count": 9,
     "metadata": {
      "tags": []
     },
     "output_type": "execute_result"
    }
   ],
   "source": [
    "'O gasto da UFRN para obras em 2018 foi: R$ ' + '{0:.2f}'.format(obras_2018.sum())"
   ]
  }
 ],
 "metadata": {
  "colab": {
   "collapsed_sections": [],
   "name": "Dinheiro gasto em obras da UFRN em licitações de 2018",
   "provenance": []
  },
  "kernelspec": {
   "display_name": "Python 3",
   "language": "python",
   "name": "python3"
  },
  "language_info": {
   "codemirror_mode": {
    "name": "ipython",
    "version": 3
   },
   "file_extension": ".py",
   "mimetype": "text/x-python",
   "name": "python",
   "nbconvert_exporter": "python",
   "pygments_lexer": "ipython3",
   "version": "3.7.4"
  }
 },
 "nbformat": 4,
 "nbformat_minor": 1
}
